{
 "cells": [
  {
   "cell_type": "code",
   "execution_count": 8,
   "metadata": {
    "ExecuteTime": {
     "end_time": "2020-07-21T13:30:28.047049Z",
     "start_time": "2020-07-21T13:30:28.042044Z"
    }
   },
   "outputs": [],
   "source": [
    "import os\n",
    "import pandas as pd"
   ]
  },
  {
   "cell_type": "code",
   "execution_count": 9,
   "metadata": {
    "ExecuteTime": {
     "end_time": "2020-07-21T13:30:28.965046Z",
     "start_time": "2020-07-21T13:30:28.960047Z"
    }
   },
   "outputs": [
    {
     "name": "stdout",
     "output_type": "stream",
     "text": [
      "True\n"
     ]
    }
   ],
   "source": [
    "pairs_path = '../data/lfw/pairs.txt'\n",
    "print(os.path.isfile(pairs_path))"
   ]
  },
  {
   "cell_type": "code",
   "execution_count": 48,
   "metadata": {
    "ExecuteTime": {
     "end_time": "2020-07-21T13:39:50.843549Z",
     "start_time": "2020-07-21T13:39:50.809558Z"
    }
   },
   "outputs": [
    {
     "data": {
      "text/html": [
       "<div>\n",
       "<style scoped>\n",
       "    .dataframe tbody tr th:only-of-type {\n",
       "        vertical-align: middle;\n",
       "    }\n",
       "\n",
       "    .dataframe tbody tr th {\n",
       "        vertical-align: top;\n",
       "    }\n",
       "\n",
       "    .dataframe thead th {\n",
       "        text-align: right;\n",
       "    }\n",
       "</style>\n",
       "<table border=\"1\" class=\"dataframe\">\n",
       "  <thead>\n",
       "    <tr style=\"text-align: right;\">\n",
       "      <th></th>\n",
       "      <th>1</th>\n",
       "      <th>2</th>\n",
       "      <th>3</th>\n",
       "      <th>4</th>\n",
       "    </tr>\n",
       "  </thead>\n",
       "  <tbody>\n",
       "    <tr>\n",
       "      <th>0</th>\n",
       "      <td>10</td>\n",
       "      <td>300</td>\n",
       "      <td>NaN</td>\n",
       "      <td>NaN</td>\n",
       "    </tr>\n",
       "    <tr>\n",
       "      <th>1</th>\n",
       "      <td>Abel_Pacheco</td>\n",
       "      <td>1</td>\n",
       "      <td>4</td>\n",
       "      <td>NaN</td>\n",
       "    </tr>\n",
       "    <tr>\n",
       "      <th>2</th>\n",
       "      <td>Akhmed_Zakayev</td>\n",
       "      <td>1</td>\n",
       "      <td>3</td>\n",
       "      <td>NaN</td>\n",
       "    </tr>\n",
       "    <tr>\n",
       "      <th>3</th>\n",
       "      <td>Akhmed_Zakayev</td>\n",
       "      <td>2</td>\n",
       "      <td>3</td>\n",
       "      <td>NaN</td>\n",
       "    </tr>\n",
       "    <tr>\n",
       "      <th>4</th>\n",
       "      <td>Amber_Tamblyn</td>\n",
       "      <td>1</td>\n",
       "      <td>2</td>\n",
       "      <td>NaN</td>\n",
       "    </tr>\n",
       "  </tbody>\n",
       "</table>\n",
       "</div>"
      ],
      "text/plain": [
       "                1    2    3   4\n",
       "0              10  300  NaN NaN\n",
       "1    Abel_Pacheco    1    4 NaN\n",
       "2  Akhmed_Zakayev    1    3 NaN\n",
       "3  Akhmed_Zakayev    2    3 NaN\n",
       "4   Amber_Tamblyn    1    2 NaN"
      ]
     },
     "execution_count": 48,
     "metadata": {},
     "output_type": "execute_result"
    }
   ],
   "source": [
    "data = pd.read_csv(pairs_path, sep = '\\t',names = ['1','2','3','4'], index_col = False)\n",
    "data.head()"
   ]
  },
  {
   "cell_type": "code",
   "execution_count": 51,
   "metadata": {
    "ExecuteTime": {
     "end_time": "2020-07-21T13:40:18.787580Z",
     "start_time": "2020-07-21T13:40:18.768577Z"
    }
   },
   "outputs": [
    {
     "data": {
      "text/html": [
       "<div>\n",
       "<style scoped>\n",
       "    .dataframe tbody tr th:only-of-type {\n",
       "        vertical-align: middle;\n",
       "    }\n",
       "\n",
       "    .dataframe tbody tr th {\n",
       "        vertical-align: top;\n",
       "    }\n",
       "\n",
       "    .dataframe thead th {\n",
       "        text-align: right;\n",
       "    }\n",
       "</style>\n",
       "<table border=\"1\" class=\"dataframe\">\n",
       "  <thead>\n",
       "    <tr style=\"text-align: right;\">\n",
       "      <th></th>\n",
       "      <th>1</th>\n",
       "      <th>2</th>\n",
       "      <th>3</th>\n",
       "      <th>4</th>\n",
       "    </tr>\n",
       "  </thead>\n",
       "  <tbody>\n",
       "    <tr>\n",
       "      <th>0</th>\n",
       "      <td>10</td>\n",
       "      <td>300</td>\n",
       "      <td>NaN</td>\n",
       "      <td>NaN</td>\n",
       "    </tr>\n",
       "    <tr>\n",
       "      <th>1</th>\n",
       "      <td>Abel_Pacheco</td>\n",
       "      <td>1</td>\n",
       "      <td>4</td>\n",
       "      <td>NaN</td>\n",
       "    </tr>\n",
       "    <tr>\n",
       "      <th>2</th>\n",
       "      <td>Akhmed_Zakayev</td>\n",
       "      <td>1</td>\n",
       "      <td>3</td>\n",
       "      <td>NaN</td>\n",
       "    </tr>\n",
       "    <tr>\n",
       "      <th>3</th>\n",
       "      <td>Akhmed_Zakayev</td>\n",
       "      <td>2</td>\n",
       "      <td>3</td>\n",
       "      <td>NaN</td>\n",
       "    </tr>\n",
       "    <tr>\n",
       "      <th>4</th>\n",
       "      <td>Amber_Tamblyn</td>\n",
       "      <td>1</td>\n",
       "      <td>2</td>\n",
       "      <td>NaN</td>\n",
       "    </tr>\n",
       "  </tbody>\n",
       "</table>\n",
       "</div>"
      ],
      "text/plain": [
       "                1    2    3   4\n",
       "0              10  300  NaN NaN\n",
       "1    Abel_Pacheco    1    4 NaN\n",
       "2  Akhmed_Zakayev    1    3 NaN\n",
       "3  Akhmed_Zakayev    2    3 NaN\n",
       "4   Amber_Tamblyn    1    2 NaN"
      ]
     },
     "execution_count": 51,
     "metadata": {},
     "output_type": "execute_result"
    }
   ],
   "source": [
    "data2 = data[:100]\n",
    "data2.head()"
   ]
  },
  {
   "cell_type": "code",
   "execution_count": 63,
   "metadata": {
    "ExecuteTime": {
     "end_time": "2020-07-21T13:43:57.348421Z",
     "start_time": "2020-07-21T13:43:57.334460Z"
    }
   },
   "outputs": [],
   "source": [
    "data2.to_csv('../data/lfw/small_pairs.txt', index = False, header = False, sep = '\\t')"
   ]
  },
  {
   "cell_type": "code",
   "execution_count": null,
   "metadata": {},
   "outputs": [],
   "source": []
  },
  {
   "cell_type": "code",
   "execution_count": null,
   "metadata": {},
   "outputs": [],
   "source": []
  },
  {
   "cell_type": "markdown",
   "metadata": {},
   "source": [
    "# image to .bin\n",
    "- https://github.com/deepinsight/insightface/blob/master/src/data/lfw2pack.py"
   ]
  },
  {
   "cell_type": "code",
   "execution_count": 64,
   "metadata": {
    "ExecuteTime": {
     "end_time": "2020-07-21T13:44:17.449442Z",
     "start_time": "2020-07-21T13:44:17.441476Z"
    }
   },
   "outputs": [],
   "source": [
    "import cv2\n",
    "import pickle\n",
    "import numpy as np\n",
    "import sys\n",
    "from scipy import misc\n",
    "import os\n",
    "import tensorflow as tf\n",
    "from scipy.io import loadmat\n",
    "from easydict import EasyDict as edict\n",
    "import os\n",
    "import json\n",
    "import numpy as np\n",
    "\n",
    "# sys.path.append(os.path.join(os.path.dirname(__file__), '..', 'align'))\n",
    "#sys.path.append(os.path.join(os.path.dirname(__file__), '..', 'common'))"
   ]
  },
  {
   "cell_type": "markdown",
   "metadata": {},
   "source": [
    "# aligned된 사진으로 수행하기"
   ]
  },
  {
   "cell_type": "markdown",
   "metadata": {},
   "source": [
    "## lfw.py"
   ]
  },
  {
   "cell_type": "code",
   "execution_count": 65,
   "metadata": {
    "ExecuteTime": {
     "end_time": "2020-07-21T13:44:18.082441Z",
     "start_time": "2020-07-21T13:44:18.065442Z"
    }
   },
   "outputs": [],
   "source": [
    "def add_extension(path):\n",
    "    if os.path.exists(path+'.jpg'):\n",
    "        return path+'.jpg'\n",
    "    elif os.path.exists(path+'.png'):\n",
    "        return path+'.png'\n",
    "    else:\n",
    "        raise RuntimeError('No file \"%s\" with extension png or jpg.' % path)\n",
    "        \n",
    "def read_pairs(pairs_filename):\n",
    "    pairs = []\n",
    "    with open(pairs_filename, 'r') as f:\n",
    "        for line in f.readlines()[1:]:\n",
    "            pair = line.strip().split()\n",
    "            pairs.append(pair)\n",
    "    return np.array(pairs)\n",
    "\n",
    "def get_paths(lfw_dir, pairs):\n",
    "    nrof_skipped_pairs = 0\n",
    "    path_list = []\n",
    "    issame_list = []\n",
    "    print('len(pairs)', len(pairs))\n",
    "    for i,pair in enumerate(pairs):\n",
    "        print(i, pair)\n",
    "        if len(pair) == 3:\n",
    "            path0 = add_extension(os.path.join(lfw_dir, pair[0], pair[0] + '_' + '%04d' % int(pair[1])))\n",
    "            path1 = add_extension(os.path.join(lfw_dir, pair[0], pair[0] + '_' + '%04d' % int(pair[2])))\n",
    "            issame = True\n",
    "        elif len(pair) == 4:\n",
    "            path0 = add_extension(os.path.join(lfw_dir, pair[0], pair[0] + '_' + '%04d' % int(pair[1])))\n",
    "            path1 = add_extension(os.path.join(lfw_dir, pair[2], pair[2] + '_' + '%04d' % int(pair[3])))\n",
    "            issame = False\n",
    "        if os.path.exists(path0) and os.path.exists(path1):    # Only add the pair if both paths exist\n",
    "            path_list += (path0,path1)\n",
    "            issame_list.append(issame)\n",
    "        else:\n",
    "            nrof_skipped_pairs += 1\n",
    "    if nrof_skipped_pairs>0:\n",
    "        print('Skipped %d image pairs' % nrof_skipped_pairs)\n",
    "    return path_list, issame_list"
   ]
  },
  {
   "cell_type": "markdown",
   "metadata": {},
   "source": [
    "## lfw2pack.py"
   ]
  },
  {
   "cell_type": "code",
   "execution_count": 70,
   "metadata": {
    "ExecuteTime": {
     "end_time": "2020-07-21T13:44:38.561460Z",
     "start_time": "2020-07-21T13:44:38.552464Z"
    }
   },
   "outputs": [
    {
     "name": "stdout",
     "output_type": "stream",
     "text": [
      "True\n"
     ]
    }
   ],
   "source": [
    "args = edict()\n",
    "args.data_dir = '../data/lfw/lfw/'\n",
    "args.image_size = '112,96'\n",
    "args.output = '../data/lfw/small_lfw.bin'\n",
    "args.model_path = './mtcnn_weights'\n",
    "print(os.path.isdir(args.data_dir))"
   ]
  },
  {
   "cell_type": "code",
   "execution_count": 71,
   "metadata": {
    "ExecuteTime": {
     "end_time": "2020-07-21T13:44:38.815463Z",
     "start_time": "2020-07-21T13:44:38.807460Z"
    }
   },
   "outputs": [
    {
     "name": "stdout",
     "output_type": "stream",
     "text": [
      "(99, 3)\n"
     ]
    }
   ],
   "source": [
    "lfw_dir = args.data_dir\n",
    "image_size = [int(x) for x in args.image_size.split(',')]\n",
    "lfw_pairs = read_pairs(os.path.join(lfw_dir, 'small_pairs.txt'))\n",
    "print(lfw_pairs.shape)"
   ]
  },
  {
   "cell_type": "code",
   "execution_count": 72,
   "metadata": {
    "ExecuteTime": {
     "end_time": "2020-07-21T13:44:39.153027Z",
     "start_time": "2020-07-21T13:44:39.024498Z"
    },
    "scrolled": false
   },
   "outputs": [
    {
     "name": "stdout",
     "output_type": "stream",
     "text": [
      "len(pairs) 99\n",
      "0 ['Abel_Pacheco' '1' '4']\n",
      "1 ['Akhmed_Zakayev' '1' '3']\n",
      "2 ['Akhmed_Zakayev' '2' '3']\n",
      "3 ['Amber_Tamblyn' '1' '2']\n",
      "4 ['Anders_Fogh_Rasmussen' '1' '3']\n",
      "5 ['Anders_Fogh_Rasmussen' '1' '4']\n",
      "6 ['Angela_Bassett' '1' '5']\n",
      "7 ['Angela_Bassett' '2' '5']\n",
      "8 ['Angela_Bassett' '3' '4']\n",
      "9 ['Ann_Veneman' '3' '5']\n",
      "10 ['Ann_Veneman' '6' '10']\n",
      "11 ['Ann_Veneman' '10' '11']\n",
      "12 ['Anthony_Fauci' '1' '2']\n",
      "13 ['Antony_Leung' '1' '2']\n",
      "14 ['Antony_Leung' '2' '3']\n",
      "15 ['Anwar_Ibrahim' '1' '2']\n",
      "16 ['Augusto_Pinochet' '1' '2']\n",
      "17 ['Barbara_Brezigar' '1' '2']\n",
      "18 ['Benjamin_Netanyahu' '1' '4']\n",
      "19 ['Benjamin_Netanyahu' '4' '5']\n",
      "20 ['Bernard_Law' '2' '3']\n",
      "21 ['Bernard_Law' '3' '4']\n",
      "22 ['Bertrand_Bonello' '1' '2']\n",
      "23 ['Bill_Frist' '2' '9']\n",
      "24 ['Bill_Frist' '4' '5']\n",
      "25 ['Bob_Graham' '2' '4']\n",
      "26 ['Bob_Graham' '3' '6']\n",
      "27 ['Bob_Graham' '4' '6']\n",
      "28 ['Bob_Graham' '5' '6']\n",
      "29 ['Boris_Becker' '2' '6']\n",
      "30 ['Brad_Johnson' '1' '3']\n",
      "31 ['Brad_Johnson' '2' '3']\n",
      "32 ['Brad_Johnson' '2' '4']\n",
      "33 ['Brian_Griese' '1' '2']\n",
      "34 ['Candice_Bergen' '1' '2']\n",
      "35 ['Candice_Bergen' '2' '3']\n",
      "36 ['Carla_Myers' '1' '2']\n",
      "37 ['Cathy_Freeman' '1' '2']\n",
      "38 ['Chang_Dae-whan' '1' '2']\n",
      "39 ['Charles_Grassley' '1' '2']\n",
      "40 ['Clare_Short' '1' '3']\n",
      "41 ['Clare_Short' '1' '4']\n",
      "42 ['Corinne_Coman' '1' '2']\n",
      "43 ['Dai_Bachtiar' '1' '2']\n",
      "44 ['Dale_Earnhardt_Jr' '1' '3']\n",
      "45 ['David_Caruso' '1' '2']\n",
      "46 ['Demi_Moore' '1' '3']\n",
      "47 ['Dick_Vermeil' '1' '2']\n",
      "48 ['Doris_Roberts' '1' '2']\n",
      "49 ['Doris_Roberts' '1' '3']\n",
      "50 ['Drew_Barrymore' '1' '2']\n",
      "51 ['Edmund_Stoiber' '4' '7']\n",
      "52 ['Edmund_Stoiber' '5' '7']\n",
      "53 ['Edmund_Stoiber' '7' '12']\n",
      "54 ['Edmund_Stoiber' '9' '11']\n",
      "55 ['Elinor_Caplan' '1' '2']\n",
      "56 ['Emmanuelle_Beart' '1' '2']\n",
      "57 ['Emmanuelle_Beart' '1' '3']\n",
      "58 ['Federico_Trillo' '1' '2']\n",
      "59 ['Federico_Trillo' '1' '3']\n",
      "60 ['Federico_Trillo' '2' '3']\n",
      "61 ['Francis_Ford_Coppola' '1' '2']\n",
      "62 ['Fred_Thompson' '1' '2']\n",
      "63 ['Fred_Thompson' '1' '3']\n",
      "64 ['Fred_Thompson' '2' '3']\n",
      "65 ['Garry_Trudeau' '1' '2']\n",
      "66 ['Gary_Williams' '1' '2']\n",
      "67 ['Gene_Robinson' '1' '2']\n",
      "68 ['Gene_Robinson' '1' '3']\n",
      "69 ['Gene_Robinson' '2' '3']\n",
      "70 ['George_Galloway' '1' '3']\n",
      "71 ['George_Galloway' '2' '3']\n",
      "72 ['George_Galloway' '2' '4']\n",
      "73 ['Geraldine_Chaplin' '1' '2']\n",
      "74 ['Geraldine_Chaplin' '1' '4']\n",
      "75 ['Geraldine_Chaplin' '3' '4']\n",
      "76 ['Gerardo_Gambala' '1' '2']\n",
      "77 ['Gian_Marco' '1' '2']\n",
      "78 ['Gian_Marco' '2' '3']\n",
      "79 ['Gillian_Anderson' '1' '2']\n",
      "80 ['Gordon_Brown' '6' '9']\n",
      "81 ['Gordon_Brown' '10' '13']\n",
      "82 ['Grant_Hackett' '1' '2']\n",
      "83 ['Grant_Hackett' '1' '3']\n",
      "84 ['Grant_Hackett' '1' '5']\n",
      "85 ['Gray_Davis' '7' '22']\n",
      "86 ['Gray_Davis' '21' '26']\n",
      "87 ['Gregg_Popovich' '1' '5']\n",
      "88 ['Gregg_Popovich' '3' '4']\n",
      "89 ['Guy_Ritchie' '1' '2']\n",
      "90 ['Hamzah_Haz' '1' '2']\n",
      "91 ['Harbhajan_Singh' '1' '2']\n",
      "92 ['Hootie_Johnson' '1' '2']\n",
      "93 ['Hugo_Chavez' '2' '27']\n",
      "94 ['Hugo_Chavez' '27' '53']\n",
      "95 ['Hugo_Chavez' '36' '51']\n",
      "96 ['Hugo_Chavez' '41' '50']\n",
      "97 ['Hugo_Chavez' '45' '56']\n",
      "98 ['Isaiah_Washington' '1' '2']\n"
     ]
    }
   ],
   "source": [
    "lfw_paths, issame_list = get_paths(lfw_dir, lfw_pairs)\n",
    "lfw_bins = []"
   ]
  },
  {
   "cell_type": "code",
   "execution_count": 73,
   "metadata": {
    "ExecuteTime": {
     "end_time": "2020-07-21T13:44:39.289075Z",
     "start_time": "2020-07-21T13:44:39.229987Z"
    }
   },
   "outputs": [],
   "source": [
    "i = 0\n",
    "for path in lfw_paths:\n",
    "  with open(path, 'rb') as fin:\n",
    "    _bin = fin.read()\n",
    "    lfw_bins.append(_bin)\n",
    "    #img = mx.image.imdecode(_bin)\n",
    "    #img = nd.transpose(img, axes=(2, 0, 1))\n",
    "    #lfw_data[i][:] = img\n",
    "    i+=1\n",
    "    if i%1000==0:\n",
    "      print('loading lfw', i)\n",
    "\n",
    "with open(args.output, 'wb') as f:\n",
    "  pickle.dump((lfw_bins, issame_list), f, protocol=pickle.HIGHEST_PROTOCOL)\n"
   ]
  },
  {
   "cell_type": "code",
   "execution_count": null,
   "metadata": {},
   "outputs": [],
   "source": []
  },
  {
   "cell_type": "code",
   "execution_count": null,
   "metadata": {},
   "outputs": [],
   "source": []
  }
 ],
 "metadata": {
  "kernelspec": {
   "display_name": "Python 3",
   "language": "python",
   "name": "python3"
  },
  "language_info": {
   "codemirror_mode": {
    "name": "ipython",
    "version": 3
   },
   "file_extension": ".py",
   "mimetype": "text/x-python",
   "name": "python",
   "nbconvert_exporter": "python",
   "pygments_lexer": "ipython3",
   "version": "3.6.8"
  },
  "toc": {
   "base_numbering": 1,
   "nav_menu": {},
   "number_sections": false,
   "sideBar": true,
   "skip_h1_title": false,
   "title_cell": "Table of Contents",
   "title_sidebar": "Contents",
   "toc_cell": false,
   "toc_position": {},
   "toc_section_display": true,
   "toc_window_display": false
  }
 },
 "nbformat": 4,
 "nbformat_minor": 4
}
