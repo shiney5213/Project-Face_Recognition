{
 "cells": [
  {
   "cell_type": "markdown",
   "metadata": {},
   "source": [
    "# image to .bin\n",
    "- https://github.com/deepinsight/insightface/blob/master/src/data/lfw2pack.py"
   ]
  },
  {
   "cell_type": "code",
   "execution_count": 30,
   "metadata": {
    "ExecuteTime": {
     "end_time": "2020-07-24T06:22:09.975052Z",
     "start_time": "2020-07-24T06:22:09.968052Z"
    }
   },
   "outputs": [],
   "source": [
    "import cv2\n",
    "import pickle\n",
    "import numpy as np\n",
    "import sys\n",
    "from scipy import misc\n",
    "import os\n",
    "import tensorflow as tf\n",
    "from scipy.io import loadmat\n",
    "from easydict import EasyDict as edict\n",
    "import os\n",
    "import json\n",
    "import numpy as np\n",
    "\n",
    "# sys.path.append(os.path.join(os.path.dirname(__file__), '..', 'align'))\n",
    "#sys.path.append(os.path.join(os.path.dirname(__file__), '..', 'common'))"
   ]
  },
  {
   "cell_type": "markdown",
   "metadata": {},
   "source": [
    "# aligned된 사진으로 수행하기"
   ]
  },
  {
   "cell_type": "markdown",
   "metadata": {},
   "source": [
    "## lfw.py"
   ]
  },
  {
   "cell_type": "code",
   "execution_count": 39,
   "metadata": {
    "ExecuteTime": {
     "end_time": "2020-07-24T06:23:44.193496Z",
     "start_time": "2020-07-24T06:23:44.174493Z"
    }
   },
   "outputs": [],
   "source": [
    "def add_extension(path):\n",
    "#     path = path.replace('\\\\', '/')\n",
    "   \n",
    "    if os.path.exists(path+'.jpg'):\n",
    "        return path+'.jpg'\n",
    "    elif os.path.exists(path+'.png'):\n",
    "        return path+'.png'\n",
    "    else:\n",
    "        raise RuntimeError('No file \"%s\" with extension png or jpg.' % path)\n",
    "        \n",
    "def read_pairs(pairs_filename):\n",
    "    pairs = []\n",
    "    with open(pairs_filename, 'r') as f:\n",
    "        for line in f.readlines()[1:]:\n",
    "            pair = line.strip().split()\n",
    "            pairs.append(pair)\n",
    "    return np.array(pairs)\n",
    "\n",
    "def get_paths(lfw_dir, pairs):\n",
    "    nrof_skipped_pairs = 0\n",
    "    path_list = []\n",
    "    issame_list = []\n",
    "    print('len(pairs)', len(pairs))\n",
    "    for i,pair in enumerate(pairs):\n",
    "        if i % 1000 == 0:\n",
    "            print(i, pair)\n",
    "        if len(pair) == 3:\n",
    "            path0 = add_extension(os.path.join(lfw_dir, pair[0], pair[0] + '_' + '%04d' % int(pair[1])))\n",
    "            path1 = add_extension(os.path.join(lfw_dir, pair[0], pair[0] + '_' + '%04d' % int(pair[2])))\n",
    "            issame = True\n",
    "        elif len(pair) == 4:\n",
    "            path0 = add_extension(os.path.join(lfw_dir, pair[0], pair[0] + '_' + '%04d' % int(pair[1])))\n",
    "            path1 = add_extension(os.path.join(lfw_dir, pair[2], pair[2] + '_' + '%04d' % int(pair[3])))\n",
    "            issame = False\n",
    "        if os.path.exists(path0) and os.path.exists(path1):    # Only add the pair if both paths exist\n",
    "            path_list += (path0,path1)\n",
    "            issame_list.append(issame)\n",
    "        else:\n",
    "            nrof_skipped_pairs += 1\n",
    "    if nrof_skipped_pairs>0:\n",
    "        print('Skipped %d image pairs' % nrof_skipped_pairs)\n",
    "    return path_list, issame_list"
   ]
  },
  {
   "cell_type": "markdown",
   "metadata": {},
   "source": [
    "## lfw2pack.py"
   ]
  },
  {
   "cell_type": "code",
   "execution_count": 44,
   "metadata": {
    "ExecuteTime": {
     "end_time": "2020-07-24T06:26:41.742331Z",
     "start_time": "2020-07-24T06:26:41.736332Z"
    }
   },
   "outputs": [],
   "source": [
    "args = edict()\n",
    "args.data_dir = '../data/kface/kface_test_112x112_rename'\n",
    "args.image_size = '112,96'\n",
    "args.output = '../data/kface/kface.bin'\n",
    "args.model_path = './mtcnn_weights'\n",
    "# print(os.path.isdir(args.data_dir))"
   ]
  },
  {
   "cell_type": "code",
   "execution_count": 41,
   "metadata": {
    "ExecuteTime": {
     "end_time": "2020-07-24T06:23:45.758506Z",
     "start_time": "2020-07-24T06:23:45.679503Z"
    }
   },
   "outputs": [
    {
     "name": "stdout",
     "output_type": "stream",
     "text": [
      "(23999,)\n"
     ]
    }
   ],
   "source": [
    "kface_dir = args.data_dir\n",
    "image_size = [int(x) for x in args.image_size.split(',')]\n",
    "kface_pairs = read_pairs(os.path.join('../data/kface', 'kface_pairs.txt'))\n",
    "print(kface_pairs.shape)"
   ]
  },
  {
   "cell_type": "code",
   "execution_count": 42,
   "metadata": {
    "ExecuteTime": {
     "end_time": "2020-07-24T06:23:56.741550Z",
     "start_time": "2020-07-24T06:23:45.860502Z"
    }
   },
   "outputs": [
    {
     "name": "stdout",
     "output_type": "stream",
     "text": [
      "len(pairs) 23999\n",
      "0 ['19062421', '2', '21']\n",
      "1000 ['19092611', '9', '22']\n",
      "2000 ['19090612', '17', '19071011', '11']\n",
      "3000 ['19082231', '28', '22']\n",
      "4000 ['19080541', '13', '19101022', '12']\n",
      "5000 ['19071611', '3', '25']\n",
      "6000 ['19062421', '30', '19090542', '2']\n",
      "7000 ['19092611', '28', '19082243', '9']\n",
      "8000 ['19090612', '18', '10']\n",
      "9000 ['19082231', '28', '19082742', '25']\n",
      "10000 ['19080541', '21', '2']\n",
      "11000 ['19071611', '18', '19080821', '16']\n",
      "12000 ['19062421', '13', '5']\n",
      "13000 ['19092611', '5', '22']\n",
      "14000 ['19090612', '14', '19071641', '21']\n",
      "15000 ['19082231', '18', '28']\n",
      "16000 ['19080541', '13', '19070921', '12']\n",
      "17000 ['19071611', '6', '8']\n",
      "18000 ['19062421', '13', '19081332', '15']\n",
      "19000 ['19092611', '20', '19090521', '15']\n",
      "20000 ['19090612', '3', '6']\n",
      "21000 ['19082231', '23', '19081421', '8']\n",
      "22000 ['19080541', '19', '9']\n",
      "23000 ['19071611', '19', '19100442', '5']\n"
     ]
    }
   ],
   "source": [
    "kface_paths, issame_list = get_paths(kface_dir, kface_pairs)\n",
    "kface_bins = []"
   ]
  },
  {
   "cell_type": "code",
   "execution_count": 43,
   "metadata": {
    "ExecuteTime": {
     "end_time": "2020-07-24T06:25:50.111083Z",
     "start_time": "2020-07-24T06:25:38.142031Z"
    }
   },
   "outputs": [
    {
     "name": "stdout",
     "output_type": "stream",
     "text": [
      "loading kface 1000\n",
      "loading kface 2000\n",
      "loading kface 3000\n",
      "loading kface 4000\n",
      "loading kface 5000\n",
      "loading kface 6000\n",
      "loading kface 7000\n",
      "loading kface 8000\n",
      "loading kface 9000\n",
      "loading kface 10000\n",
      "loading kface 11000\n",
      "loading kface 12000\n",
      "loading kface 13000\n",
      "loading kface 14000\n",
      "loading kface 15000\n",
      "loading kface 16000\n",
      "loading kface 17000\n",
      "loading kface 18000\n",
      "loading kface 19000\n",
      "loading kface 20000\n",
      "loading kface 21000\n",
      "loading kface 22000\n",
      "loading kface 23000\n",
      "loading kface 24000\n",
      "loading kface 25000\n",
      "loading kface 26000\n",
      "loading kface 27000\n",
      "loading kface 28000\n",
      "loading kface 29000\n",
      "loading kface 30000\n",
      "loading kface 31000\n",
      "loading kface 32000\n",
      "loading kface 33000\n",
      "loading kface 34000\n",
      "loading kface 35000\n",
      "loading kface 36000\n",
      "loading kface 37000\n",
      "loading kface 38000\n",
      "loading kface 39000\n",
      "loading kface 40000\n",
      "loading kface 41000\n",
      "loading kface 42000\n",
      "loading kface 43000\n",
      "loading kface 44000\n",
      "loading kface 45000\n",
      "loading kface 46000\n",
      "loading kface 47000\n"
     ]
    }
   ],
   "source": [
    "i = 0\n",
    "for path in kface_paths:\n",
    "  with open(path, 'rb') as fin:\n",
    "    _bin = fin.read()\n",
    "    kface_bins.append(_bin)\n",
    "    #img = mx.image.imdecode(_bin)\n",
    "    #img = nd.transpose(img, axes=(2, 0, 1))\n",
    "    #kface_data[i][:] = img\n",
    "    i+=1\n",
    "    if i%1000==0:\n",
    "      print('loading kface', i)\n",
    "\n",
    "with open(args.output, 'wb') as f:\n",
    "  pickle.dump((kface_bins, issame_list), f, protocol=pickle.HIGHEST_PROTOCOL)\n"
   ]
  },
  {
   "cell_type": "code",
   "execution_count": null,
   "metadata": {},
   "outputs": [],
   "source": []
  }
 ],
 "metadata": {
  "kernelspec": {
   "display_name": "Python 3",
   "language": "python",
   "name": "python3"
  },
  "language_info": {
   "codemirror_mode": {
    "name": "ipython",
    "version": 3
   },
   "file_extension": ".py",
   "mimetype": "text/x-python",
   "name": "python",
   "nbconvert_exporter": "python",
   "pygments_lexer": "ipython3",
   "version": "3.6.8"
  },
  "toc": {
   "base_numbering": 1,
   "nav_menu": {},
   "number_sections": false,
   "sideBar": true,
   "skip_h1_title": false,
   "title_cell": "Table of Contents",
   "title_sidebar": "Contents",
   "toc_cell": false,
   "toc_position": {},
   "toc_section_display": true,
   "toc_window_display": true
  }
 },
 "nbformat": 4,
 "nbformat_minor": 4
}
